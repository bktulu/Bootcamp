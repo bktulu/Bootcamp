{
 "cells": [
  {
   "cell_type": "markdown",
   "metadata": {},
   "source": [
    "1.1'den 200'ye kadar olan çift sayılardan oluşan 10 X 10'luk bir dizi oluşturun. arange() fonksiyonu yardımcı olabilir."
   ]
  },
  {
   "cell_type": "code",
   "execution_count": 1,
   "metadata": {},
   "outputs": [
    {
     "name": "stdout",
     "output_type": "stream",
     "text": [
      "[[200 198 196 194 192 190 188 186 184 182]\n",
      " [180 178 176 174 172 170 168 166 164 162]\n",
      " [160 158 156 154 152 150 148 146 144 142]\n",
      " [140 138 136 134 132 130 128 126 124 122]\n",
      " [120 118 116 114 112 110 108 106 104 102]\n",
      " [100  98  96  94  92  90  88  86  84  82]\n",
      " [ 80  78  76  74  72  70  68  66  64  62]\n",
      " [ 60  58  56  54  52  50  48  46  44  42]\n",
      " [ 40  38  36  34  32  30  28  26  24  22]\n",
      " [ 20  18  16  14  12  10   8   6   4   2]]\n",
      "[[  0   2   4   6   8  10  12  14  16  18]\n",
      " [ 20  22  24  26  28  30  32  34  36  38]\n",
      " [ 40  42  44  46  48  50  52  54  56  58]\n",
      " [ 60  62  64  66  68  70  72  74  76  78]\n",
      " [ 80  82  84  86  88  90  92  94  96  98]\n",
      " [100 102 104 106 108 110 112 114 116 118]\n",
      " [120 122 124 126 128 130 132 134 136 138]\n",
      " [140 142 144 146 148 150 152 154 156 158]\n",
      " [160 162 164 166 168 170 172 174 176 178]\n",
      " [180 182 184 186 188 190 192 194 196 198]]\n"
     ]
    }
   ],
   "source": [
    "import numpy as np\n",
    "\n",
    "a = np.arange(200,1,-2).reshape(10,10)\n",
    "b = np.arange(0,200,2).reshape(10,10)\n",
    "\n",
    "print(a)\n",
    "print(b)"
   ]
  },
  {
   "cell_type": "code",
   "execution_count": 2,
   "metadata": {},
   "outputs": [
    {
     "name": "stdout",
     "output_type": "stream",
     "text": [
      "Satır:5\n",
      "Sütun:7\n"
     ]
    },
    {
     "data": {
      "text/plain": [
       "array([[1., 1., 1., 1., 1., 1., 1.],\n",
       "       [1., 0., 0., 0., 0., 0., 1.],\n",
       "       [1., 0., 0., 0., 0., 0., 1.],\n",
       "       [1., 0., 0., 0., 0., 0., 1.],\n",
       "       [1., 1., 1., 1., 1., 1., 1.]])"
      ]
     },
     "execution_count": 2,
     "metadata": {},
     "output_type": "execute_result"
    }
   ],
   "source": [
    "x = int(input(\"Satır:\"))\n",
    "y = int(input(\"Sütun:\"))\n",
    "\n",
    "a = np.ones((x,y))\n",
    "a[1:-1,1:-1] = [0]\n",
    "a"
   ]
  }
 ],
 "metadata": {
  "kernelspec": {
   "display_name": "Python 3",
   "language": "python",
   "name": "python3"
  },
  "language_info": {
   "codemirror_mode": {
    "name": "ipython",
    "version": 3
   },
   "file_extension": ".py",
   "mimetype": "text/x-python",
   "name": "python",
   "nbconvert_exporter": "python",
   "pygments_lexer": "ipython3",
   "version": "3.7.4"
  }
 },
 "nbformat": 4,
 "nbformat_minor": 2
}
