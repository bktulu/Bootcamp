{
 "cells": [
  {
   "cell_type": "markdown",
   "metadata": {},
   "source": [
    "1.Seçeceğiniz herhangi bir şiiri bilgisayarına .txt dsyası olarak kaydedin. Şiirin kaç dizeden oluştuğunu hesaplayın ve başka bir dosyaya her dizenin ilk kelimesini yazdırın."
   ]
  },
  {
   "cell_type": "code",
   "execution_count": 14,
   "metadata": {},
   "outputs": [
    {
     "name": "stdout",
     "output_type": "stream",
     "text": [
      "12\n",
      "['Artık\\n', 'Meçhule\\n', 'Hiç\\n', 'Sallanmaz\\n', 'Rıhtımda\\n', 'Günlerce\\n', 'Biçare\\n', 'Hicranlı\\n', 'Dünyada\\n', 'Bilmez\\n', 'Birçok\\n', 'Birçok\\n']\n"
     ]
    }
   ],
   "source": [
    "with open(\"Siir.txt\", \"r\", encoding='utf8') as f:\n",
    "    lines=f.readlines()\n",
    "    print(len(lines))\n",
    "f = open(\"siir2.txt\", 'w', encoding='utf8')\n",
    "for i in lines:\n",
    "    kelime = i.split(\" \")\n",
    "    f.write(kelime[0]+\"\\n\")\n",
    "f.close()\n",
    "with open(\"siir2.txt\", \"r\", encoding='utf8') as f:\n",
    "    lines = f.readlines()\n",
    "    print(lines)\n"
   ]
  },
  {
   "cell_type": "markdown",
   "metadata": {},
   "source": [
    "2.Parametre olarak girilen bir sayının asal sayı olup olmadığını belirten bir fonksiyon yazın."
   ]
  },
  {
   "cell_type": "code",
   "execution_count": 2,
   "metadata": {},
   "outputs": [
    {
     "name": "stdout",
     "output_type": "stream",
     "text": [
      "Bir sayı giriniz: 17\n",
      "Asaldır.\n"
     ]
    }
   ],
   "source": [
    "def asalmi (sayi):\n",
    "    a=0\n",
    "    for i in range(2,int(sayi+1)):\n",
    "        if(int(sayi)%i==0):\n",
    "            a+=1\n",
    "    if(a==1):\n",
    "            print(\"Asaldır.\")\n",
    "    else:\n",
    "            print(\"Asal değildir.\")\n",
    "\n",
    "\n",
    "sayi = int(input('Bir sayı giriniz: '))\n",
    "asalmi(sayi)"
   ]
  },
  {
   "cell_type": "markdown",
   "metadata": {},
   "source": [
    "3.Parametre olarak girilecek listenin elemanlarını yeni bir listeye her değer sadece bir kere geçecek şekilde aktaran bir fonksiyon yazın. Normalde bu işlemi set() komutu ile yapabiliriz ama bu seferlik bu komutu kullanmayalım.\n",
    "\n",
    " Örnek : uniq_liste([1,2,2,3,3,4,4]) = [1,2,3,4]"
   ]
  },
  {
   "cell_type": "code",
   "execution_count": 3,
   "metadata": {},
   "outputs": [
    {
     "name": "stdout",
     "output_type": "stream",
     "text": [
      "uniq_liste([1, 2, 2, 3, 3, 4, 4]) = [1, 2, 3, 4]\n"
     ]
    }
   ],
   "source": [
    "uniq_liste = [1,2,2,3,3,4,4]\n",
    "liste = []\n",
    "\n",
    "for i in uniq_liste:\n",
    "    if i not in liste:\n",
    "        liste.append(i)\n",
    "\n",
    "metin = \"uniq_liste({}) = {}\"\n",
    "\n",
    "print(metin.format(uniq_liste,liste))"
   ]
  },
  {
   "cell_type": "markdown",
   "metadata": {},
   "source": [
    "4.Python'da hazır birçok modül bulunmaktadır. Zaman ile ilgili modüllerden birisini import ederek, parametre olarak doğum tarihi alan ve yaşı döndüren bir fonksiyon yazınız."
   ]
  },
  {
   "cell_type": "code",
   "execution_count": 4,
   "metadata": {},
   "outputs": [
    {
     "name": "stdout",
     "output_type": "stream",
     "text": [
      "Doğum tarihiniz?\n",
      "Gün: 01\n",
      "Ay: 06\n",
      "Yıl: 1995\n",
      "Doğum tarihiniz: 1995-06-01\n",
      "24 yaşındasınız.\n"
     ]
    }
   ],
   "source": [
    "import datetime\n",
    "from datetime import date\n",
    "\n",
    "\n",
    "print(\"Doğum tarihiniz?\")\n",
    "\n",
    "gün = int(input(\"Gün: \"))\n",
    "ay = int(input(\"Ay: \"))\n",
    "yıl = int(input(\"Yıl: \"))\n",
    "\n",
    "dogumgünü= datetime.date(yıl,ay,gün)\n",
    "print(\"Doğum tarihiniz:\",dogumgünü)\n",
    "  \n",
    "def yas_hesapla(dgunu): \n",
    "    today = date.today() \n",
    "    yas = today.year - dgunu.year - ((today.month, today.day) < \n",
    "         (dgunu.month, dgunu.day)) \n",
    "    return yas \n",
    "       \n",
    "print(yas_hesapla(dogumgünü), \"yaşındasınız.\") \n"
   ]
  }
 ],
 "metadata": {
  "kernelspec": {
   "display_name": "Python 3",
   "language": "python",
   "name": "python3"
  },
  "language_info": {
   "codemirror_mode": {
    "name": "ipython",
    "version": 3
   },
   "file_extension": ".py",
   "mimetype": "text/x-python",
   "name": "python",
   "nbconvert_exporter": "python",
   "pygments_lexer": "ipython3",
   "version": "3.7.4"
  }
 },
 "nbformat": 4,
 "nbformat_minor": 2
}
