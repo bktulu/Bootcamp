{
 "cells": [
  {
   "cell_type": "code",
   "execution_count": 1,
   "metadata": {},
   "outputs": [
    {
     "name": "stdout",
     "output_type": "stream",
     "text": [
      "{'1': 'Pazartesi', '2': 'Salı', '3': 'Çarşamba', '4': 'Perşembe', '5': 'Cuma', '6': 'Cumartesi', '7': 'Pazar'}\n",
      "2 gün seçiniz :\n",
      "1.gün :1\n",
      "2.gün :2\n",
      "{'3': 'Çarşamba', '4': 'Perşembe', '5': 'Cuma', '6': 'Cumartesi', '7': 'Pazar'}\n"
     ]
    }
   ],
   "source": [
    "gunler = {\n",
    "    \"1\" : \"Pazartesi\",\n",
    "    \"2\" : \"Salı\",\n",
    "    \"3\" : \"Çarşamba\",\n",
    "    \"4\" : \"Perşembe\",\n",
    "    \"5\" : \"Cuma\",\n",
    "    \"6\" : \"Cumartesi\",\n",
    "    \"7\" : \"Pazar\",\n",
    "}\n",
    "\n",
    "print(gunler)\n",
    "print('2 gün seçiniz :')\n",
    "x = input('1.gün :')\n",
    "y = input('2.gün :')\n",
    "\n",
    "if x in gunler:\n",
    "    del gunler[x]\n",
    "if y in gunler:\n",
    "    del gunler[y]\n",
    "print(gunler)"
   ]
  },
  {
   "cell_type": "code",
   "execution_count": null,
   "metadata": {},
   "outputs": [],
   "source": []
  }
 ],
 "metadata": {
  "kernelspec": {
   "display_name": "Python 3",
   "language": "python",
   "name": "python3"
  },
  "language_info": {
   "codemirror_mode": {
    "name": "ipython",
    "version": 3
   },
   "file_extension": ".py",
   "mimetype": "text/x-python",
   "name": "python",
   "nbconvert_exporter": "python",
   "pygments_lexer": "ipython3",
   "version": "3.7.3"
  }
 },
 "nbformat": 4,
 "nbformat_minor": 2
}
