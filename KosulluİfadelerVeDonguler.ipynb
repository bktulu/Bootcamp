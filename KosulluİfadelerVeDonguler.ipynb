{
 "cells": [
  {
   "cell_type": "markdown",
   "metadata": {},
   "source": [
    "1.Kullanıcıdan Santigrat ya da Fahrenheit olarak sıcaklık değerini alacak ve diğer sıcaklık birimine çevirecek bir kod yazın. Dönüşüm için C = (5/9) * (F - 32) formülünü kullanabilirsiniz."
   ]
  },
  {
   "cell_type": "code",
   "execution_count": 1,
   "metadata": {},
   "outputs": [
    {
     "name": "stdout",
     "output_type": "stream",
     "text": [
      "Santigrat değer girecekseniz 1'i, Fahrenheit değer girecekseniz 2'yi seçiniz.\n",
      "Seçiminiz: 1\n",
      "Santigrat: 40\n",
      "40.0C\" --> \"104.0F\n"
     ]
    }
   ],
   "source": [
    "print(\"Santigrat değer girecekseniz 1'i, Fahrenheit değer girecekseniz 2'yi seçiniz.\")\n",
    "\n",
    "x = input('Seçiminiz: ')\n",
    "\n",
    "if x == '1':\n",
    "    C = int(input('Santigrat: '))\n",
    "    F = (9/5)*C + 32\n",
    "    metin = \"\"\"{:.1f}C\" --> \"{:.1f}F\"\"\"\n",
    "    print(metin.format(C,F))\n",
    "\n",
    "elif x == '2':\n",
    "    F = int(input('Fahrenheit: '))\n",
    "    C = (5/9) * (F - 32)\n",
    "    metin = \"\"\"{:.1f}F\" --> \"{:.1f}C\"\"\"\n",
    "    print(metin.format(F,C))\n",
    "    \n",
    "else:\n",
    "    print(\"Hatalı giriş yaptınız.\")\n",
    "    x = input('Değeri giriniz: ')\n",
    "    if x == '1':\n",
    "        C = int(input('Santigrat: '))\n",
    "        F = (9/5)*C + 32\n",
    "        metin = \"\"\"{:.1f}C\" --> \"{:.1f}F\"\"\"\n",
    "        print(metin.format(C,F))\n",
    "\n",
    "    elif x == '2':\n",
    "        F = int(input('Fahrenheit: '))\n",
    "        C = (5/9) * (F - 32)\n",
    "        metin = \"\"\"{:.1f}F\" --> \"{:.1f}C\"\"\"\n",
    "        print(metin.format(F,C))"
   ]
  },
  {
   "cell_type": "markdown",
   "metadata": {},
   "source": [
    "2.Kullanıcının girdiği kelimeyi ters çeviren bir kod yazınız."
   ]
  },
  {
   "cell_type": "code",
   "execution_count": 2,
   "metadata": {
    "scrolled": true
   },
   "outputs": [
    {
     "name": "stdout",
     "output_type": "stream",
     "text": [
      "Kelime: otobüs\n",
      "otobüs\" --> \"süboto\n"
     ]
    }
   ],
   "source": [
    "kelime = input('Kelime: ')\n",
    "metin = \"\"\"{}\" --> \"{}\"\"\"\n",
    "print(metin.format(kelime,kelime[::-1]))"
   ]
  },
  {
   "cell_type": "markdown",
   "metadata": {},
   "source": [
    "3.1'den 50'ye kadar olan Fibonacci sayılarından oluşan bir liste oluşturun. İlk iki Fibonacci sayısı 1'dir. Sonraki sayılar, önceki iki sayının toplamıdır."
   ]
  },
  {
   "cell_type": "code",
   "execution_count": 3,
   "metadata": {},
   "outputs": [
    {
     "name": "stdout",
     "output_type": "stream",
     "text": [
      "1\n",
      "1\n",
      "2\n",
      "3\n",
      "5\n",
      "8\n",
      "13\n",
      "21\n",
      "34\n"
     ]
    }
   ],
   "source": [
    "x=1\n",
    "y=1\n",
    "print(x)\n",
    "print(y)\n",
    "\n",
    "i = 2\n",
    "if i<50:\n",
    "    while i <= 50:\n",
    "        eski_x = x\n",
    "        eski_y = y\n",
    "        x = eski_y\n",
    "        y = eski_x + eski_y\n",
    "        i = y\n",
    "        if i<50:\n",
    "            print(i)"
   ]
  },
  {
   "cell_type": "markdown",
   "metadata": {},
   "source": [
    "4.Girilen bir sayı için çarpım tablosunu yazdırın."
   ]
  },
  {
   "cell_type": "code",
   "execution_count": 4,
   "metadata": {},
   "outputs": [
    {
     "name": "stdout",
     "output_type": "stream",
     "text": [
      "Bir sayi girin : 6\n",
      "6  x  1  =  6\n",
      "6  x  2  =  12\n",
      "6  x  3  =  18\n",
      "6  x  4  =  24\n",
      "6  x  5  =  30\n",
      "6  x  6  =  36\n",
      "6  x  7  =  42\n",
      "6  x  8  =  48\n",
      "6  x  9  =  54\n",
      "6  x  10  =  60\n"
     ]
    }
   ],
   "source": [
    "sayi = int(input('Bir sayi girin : '))\n",
    "for i in range(1,11):\n",
    "    print(sayi,\" x \",i,\" = \",sayi * i)"
   ]
  },
  {
   "cell_type": "markdown",
   "metadata": {},
   "source": [
    "5.List comprehension kullanarak, 1'den 20'ye kadar tek sayıların karesini, çift sayıların küpünü içeren bir liste oluşturun."
   ]
  },
  {
   "cell_type": "code",
   "execution_count": 5,
   "metadata": {},
   "outputs": [
    {
     "name": "stdout",
     "output_type": "stream",
     "text": [
      "[1, 8, 9, 64, 25, 216, 49, 512, 81, 1000, 121, 1728, 169, 2744, 225, 4096, 289, 5832, 361]\n"
     ]
    }
   ],
   "source": [
    " my_list = [x**2 if x % 2 == 1 else x**3 for x in range(1,20)]\n",
    "print(my_list)"
   ]
  }
 ],
 "metadata": {
  "kernelspec": {
   "display_name": "Python 3",
   "language": "python",
   "name": "python3"
  },
  "language_info": {
   "codemirror_mode": {
    "name": "ipython",
    "version": 3
   },
   "file_extension": ".py",
   "mimetype": "text/x-python",
   "name": "python",
   "nbconvert_exporter": "python",
   "pygments_lexer": "ipython3",
   "version": "3.7.4"
  }
 },
 "nbformat": 4,
 "nbformat_minor": 2
}
