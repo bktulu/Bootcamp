{
 "cells": [
  {
   "cell_type": "markdown",
   "metadata": {},
   "source": [
    "1.Bitcoin'in iyi kazandırdığı 2017 yılı sonunda yatırım yaptığınızı farz edelim. Günlük ortalama %12 artan bitcoine 1000$ yatırmış olsaydınız bir hafta sonunda paranız ne kadar olurdu? Lütfen problemi Python kullanarak çözün."
   ]
  },
  {
   "cell_type": "code",
   "execution_count": 1,
   "metadata": {},
   "outputs": [
    {
     "name": "stdout",
     "output_type": "stream",
     "text": [
      "2210.6814074060803\n"
     ]
    }
   ],
   "source": [
    "#1 Döngü ile yapılabilir. \n",
    "bitcoin = 1000\n",
    "\n",
    "gunlukArtıs = bitcoin * 12 / 100\n",
    "bitcoin1 = bitcoin + gunlukArtıs\n",
    "gunlukArtıs = bitcoin1 * 12 / 100\n",
    "bitcoin1 = bitcoin1 + gunlukArtıs\n",
    "gunlukArtıs = bitcoin1 * 12 / 100\n",
    "bitcoin1 = bitcoin1 + gunlukArtıs\n",
    "gunlukArtıs = bitcoin1 * 12 / 100\n",
    "bitcoin1 = bitcoin1 + gunlukArtıs\n",
    "gunlukArtıs = bitcoin1 * 12 / 100\n",
    "bitcoin1 = bitcoin1 + gunlukArtıs\n",
    "gunlukArtıs = bitcoin1 * 12 / 100\n",
    "bitcoin1 = bitcoin1 + gunlukArtıs\n",
    "gunlukArtıs = bitcoin1 * 12 / 100\n",
    "bitcoin1 = bitcoin1 + gunlukArtıs\n",
    "\n",
    "print(bitcoin1)"
   ]
  },
  {
   "cell_type": "code",
   "execution_count": 2,
   "metadata": {},
   "outputs": [
    {
     "name": "stdout",
     "output_type": "stream",
     "text": [
      "2210.6814074060803\n"
     ]
    }
   ],
   "source": [
    "# While döngüsü ile\n",
    "\n",
    "x = 0\n",
    "bitcoin = 1000\n",
    "gunlukArtis = bitcoin * 12 / 100\n",
    "bitcoin1 = bitcoin + gunlukArtis\n",
    "\n",
    "while (x < 6):\n",
    "    gunlukArtis = bitcoin1 * 12 / 100\n",
    "    bitcoin1 = bitcoin1 + gunlukArtis\n",
    "    x += 1\n",
    "print(bitcoin1)"
   ]
  },
  {
   "cell_type": "markdown",
   "metadata": {},
   "source": [
    "2.Tırnak içindeki metni Python ile yazdırın. Ancak rakamlar değişkenlerden gelmeli. Metin uzun olduğu için iki satıra yazmayı düşünebilirsiniz: \"Hafta başında 1000 dolarlık bitcoin aldığımızda günde ortalama %12 kazançla, bir hafta sonunda 1210.68 dolar kazanırdık\""
   ]
  },
  {
   "cell_type": "code",
   "execution_count": 3,
   "metadata": {},
   "outputs": [
    {
     "name": "stdout",
     "output_type": "stream",
     "text": [
      "Hafta başında 1000 dolarlık bitcoin aldığımızda günde ortalama %12 kazançla, bir hafta sonunda 2210.68 dolar kazanırdık.\n"
     ]
    }
   ],
   "source": [
    "metin = 'Hafta başında {} dolarlık bitcoin aldığımızda günde ortalama %12 kazançla, bir hafta sonunda {:.2f} dolar kazanırdık.'\n",
    "print(metin.format(bitcoin,bitcoin1))"
   ]
  },
  {
   "cell_type": "markdown",
   "metadata": {},
   "source": [
    "3.Kullanıcıdan dosya adını alan ve bu dosya adına \"py\" uzantısı ekleyerek ekrana yazdıran bir kod yazınız."
   ]
  },
  {
   "cell_type": "code",
   "execution_count": 4,
   "metadata": {},
   "outputs": [
    {
     "name": "stdout",
     "output_type": "stream",
     "text": [
      "Dosya adı: bootcamp\n",
      "bootcamp.py\n"
     ]
    }
   ],
   "source": [
    "dosyaAdı = input('Dosya adı: ')\n",
    "print(\"{}.py\".format(dosyaAdı))"
   ]
  }
 ],
 "metadata": {
  "kernelspec": {
   "display_name": "Python 3",
   "language": "python",
   "name": "python3"
  },
  "language_info": {
   "codemirror_mode": {
    "name": "ipython",
    "version": 3
   },
   "file_extension": ".py",
   "mimetype": "text/x-python",
   "name": "python",
   "nbconvert_exporter": "python",
   "pygments_lexer": "ipython3",
   "version": "3.7.4"
  }
 },
 "nbformat": 4,
 "nbformat_minor": 2
}
